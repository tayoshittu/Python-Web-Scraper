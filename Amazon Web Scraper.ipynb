{
 "cells": [
  {
   "cell_type": "code",
   "execution_count": 1,
   "id": "97d358f0",
   "metadata": {},
   "outputs": [],
   "source": [
    "# import libraries \n",
    "\n",
    "from bs4 import BeautifulSoup\n",
    "import requests\n",
    "import time\n",
    "import datetime\n",
    "import csv\n",
    "\n",
    "import smtplib"
   ]
  },
  {
   "cell_type": "code",
   "execution_count": 2,
   "id": "f860d3e1",
   "metadata": {},
   "outputs": [
    {
     "name": "stdout",
     "output_type": "stream",
     "text": [
      "\n",
      "            Diolong Wooden Coffee Table Rectangle Side Table with Storage for Living Room End Table with Shelf Brown\n",
      "           \n",
      "\n",
      "                         $95.75\n",
      "                        \n"
     ]
    }
   ],
   "source": [
    "# Connect to Website and pull in data\n",
    "\n",
    "URL = 'https://www.amazon.ca/Diolong-Wooden-Coffee-Rectangle-Storage/dp/B08ZS55BGY/?_encoding=UTF8&pd_rd_w=UizMH&content-id=amzn1.sym.fffbaa43-ead2-4447-95cd-9d09dc6a98bb&pf_rd_p=fffbaa43-ead2-4447-95cd-9d09dc6a98bb&pf_rd_r=K6HKPKXVPQHDCBB5M96W&pd_rd_wg=fZSRn&pd_rd_r=c5d8db1b-495e-4ce4-8fc1-bc54e05252f6&ref_=pd_gw_ci_mcx_mr_hp_d&th=1'\n",
    "\n",
    "headers = {\"User-Agent\": \"Mozilla/5.0 (Windows NT 10.0; Win64; x64) AppleWebKit/537.36 (KHTML, like Gecko) Chrome/110.0.0.0 Safari/537.36\", \"Accept-Encoding\":\"gzip, deflate\", \"Accept\":\"text/html,application/xhtml+xml,application/xml;q=0.9,*/*;q=0.8\", \"DNT\":\"1\",\"Connection\":\"close\", \"Upgrade-Insecure-Requests\":\"1\"}\n",
    "\n",
    "page = requests.get(URL, headers=headers)\n",
    "\n",
    "soup1 = BeautifulSoup(page.content, \"html.parser\")\n",
    "\n",
    "#format html parser for better viewing\n",
    "soup2 = BeautifulSoup(soup1.prettify(), \"html.parser\")\n",
    "\n",
    "#find the id producttitle and return the title\n",
    "title = soup2.find(id='productTitle').get_text()\n",
    "\n",
    "#find the id priceblock_ourprice and return price\n",
    "#price = soup2.find('hm-product-price', class_ =\"product-price\")\n",
    "price = soup2.find('span', class_=\"a-offscreen\").get_text()\n",
    "\n",
    "print(title)\n",
    "print(price)\n",
    "\n"
   ]
  },
  {
   "cell_type": "code",
   "execution_count": 3,
   "id": "d74e6fd3",
   "metadata": {},
   "outputs": [
    {
     "name": "stdout",
     "output_type": "stream",
     "text": [
      "Diolong Wooden Coffee Table Rectangle Side Table with Storage for Living Room End Table with Shelf Brown 95.75\n",
      "2023-03-09\n"
     ]
    }
   ],
   "source": [
    "#clean data\n",
    "\n",
    "title = title.strip()\n",
    "price = price.strip()[1:]\n",
    "\n",
    "print(title,price)\n",
    "\n",
    "today = datetime.date.today()\n",
    "\n",
    "print(today)"
   ]
  },
  {
   "cell_type": "code",
   "execution_count": 4,
   "id": "5d19bb48",
   "metadata": {},
   "outputs": [],
   "source": [
    "# Create CSV and write headers and data into the file\n",
    "\n",
    "header = ['Title', \"Price ($)\", 'Date']\n",
    "data = [title, price, today]\n",
    "\n",
    "\n",
    "with open('WebScraperDataset.csv', 'w', newline='', encoding='UTF8') as f:\n",
    "    writer = csv.writer(f)\n",
    "    writer.writerow(header)\n",
    "    writer.writerow(data)"
   ]
  },
  {
   "cell_type": "code",
   "execution_count": 5,
   "id": "78274a05",
   "metadata": {},
   "outputs": [
    {
     "name": "stdout",
     "output_type": "stream",
     "text": [
      "                                               Title  Price ($)        Date\n",
      "0  Diolong Wooden Coffee Table Rectangle Side Tab...      95.75  2023-03-09\n"
     ]
    }
   ],
   "source": [
    "import pandas as pd\n",
    "\n",
    "df = pd.read_csv(r'C:\\Users\\tayos\\WebScraperDataset.csv')\n",
    "\n",
    "print(df)"
   ]
  },
  {
   "cell_type": "code",
   "execution_count": 6,
   "id": "aa1e542c",
   "metadata": {},
   "outputs": [],
   "source": [
    "#Now we are appending data to the csv\n",
    "\n",
    "with open('WebScraperDataset.csv', 'a+', newline='', encoding='UTF8') as f:\n",
    "    writer = csv.writer(f)\n",
    "    writer.writerow(data)"
   ]
  },
  {
   "cell_type": "code",
   "execution_count": 7,
   "id": "6f0da96a",
   "metadata": {},
   "outputs": [
    {
     "name": "stdout",
     "output_type": "stream",
     "text": [
      "Diolong Wooden Coffee Table Rectangle Side Table with Storage for Living Room End Table with Shelf Brown\n",
      "95.75\n"
     ]
    }
   ],
   "source": [
    "#combine all into a function \n",
    "\n",
    "def check_price():\n",
    "\n",
    "    URL = 'https://www.amazon.ca/Diolong-Wooden-Coffee-Rectangle-Storage/dp/B08ZS55BGY/?_encoding=UTF8&pd_rd_w=UizMH&content-id=amzn1.sym.fffbaa43-ead2-4447-95cd-9d09dc6a98bb&pf_rd_p=fffbaa43-ead2-4447-95cd-9d09dc6a98bb&pf_rd_r=K6HKPKXVPQHDCBB5M96W&pd_rd_wg=fZSRn&pd_rd_r=c5d8db1b-495e-4ce4-8fc1-bc54e05252f6&ref_=pd_gw_ci_mcx_mr_hp_d&th=1'\n",
    "\n",
    "    headers = {\"User-Agent\": \"Mozilla/5.0 (Windows NT 10.0; Win64; x64) AppleWebKit/537.36 (KHTML, like Gecko) Chrome/110.0.0.0 Safari/537.36\", \"Accept-Encoding\":\"gzip, deflate\", \"Accept\":\"text/html,application/xhtml+xml,application/xml;q=0.9,*/*;q=0.8\", \"DNT\":\"1\",\"Connection\":\"close\", \"Upgrade-Insecure-Requests\":\"1\"}\n",
    "\n",
    "    page = requests.get(URL, headers=headers)\n",
    "\n",
    "    soup1 = BeautifulSoup(page.content, \"html.parser\")\n",
    "\n",
    "#format html parser for better viewing\n",
    "    soup2 = BeautifulSoup(soup1.prettify(), \"html.parser\")\n",
    "\n",
    "#find the id producttitle and return the title\n",
    "    title = soup2.find(id='productTitle').get_text()\n",
    "\n",
    "#find the id priceblock_ourprice and return price\n",
    "#price = soup2.find('hm-product-price', class_ =\"product-price\")\n",
    "    price = soup2.find('span', class_=\"a-offscreen\").get_text()\n",
    "\n",
    "    title = title.strip()\n",
    "    price = price.strip()[1:]\n",
    "\n",
    "    print(title)\n",
    "    print(price)\n",
    "\n",
    "    today = datetime.date.today()\n",
    "\n",
    "    header = ['Title', 'Price $', 'Date']\n",
    "    data = [title, price, today]\n",
    "\n",
    "\n",
    "    with open('WebScraperDataset.csv', 'a+', newline='', encoding='UTF8') as f:\n",
    "        writer = csv.writer(f)\n",
    "        writer.writerow(data)\n",
    "        \n",
    "        \n",
    "check_price()"
   ]
  },
  {
   "cell_type": "code",
   "execution_count": null,
   "id": "8532ca6d",
   "metadata": {},
   "outputs": [
    {
     "name": "stdout",
     "output_type": "stream",
     "text": [
      "Diolong Wooden Coffee Table Rectangle Side Table with Storage for Living Room End Table with Shelf Brown\n",
      "95.75\n"
     ]
    }
   ],
   "source": [
    "#runs check_price()\n",
    "\n",
    "while(True):\n",
    "    check_price()\n",
    "    time.sleep(86400)"
   ]
  },
  {
   "cell_type": "code",
   "execution_count": 8,
   "id": "48f5eb90",
   "metadata": {},
   "outputs": [
    {
     "name": "stdout",
     "output_type": "stream",
     "text": [
      "                                               Title  Price ($)        Date\n",
      "0  Diolong Wooden Coffee Table Rectangle Side Tab...      95.75  2023-03-09\n",
      "1  Diolong Wooden Coffee Table Rectangle Side Tab...      95.75  2023-03-09\n",
      "2  Diolong Wooden Coffee Table Rectangle Side Tab...      95.75  2023-03-09\n"
     ]
    }
   ],
   "source": [
    "import pandas as pd\n",
    "\n",
    "df = pd.read_csv(r'C:\\Users\\tayos\\WebScraperDataset.csv')\n",
    "\n",
    "print(df)"
   ]
  },
  {
   "cell_type": "code",
   "execution_count": 9,
   "id": "21f131bf",
   "metadata": {},
   "outputs": [],
   "source": [
    "# If uou want to try sending yourself an email (just for fun) when a price hits below a certain level you can try it\n",
    "# out with this script\n",
    "\n",
    "def send_mail():\n",
    "    server = smtplib.SMTP_SSL('smtp.gmail.com',465)\n",
    "    server.ehlo()\n",
    "    #server.starttls()\n",
    "    server.ehlo()\n",
    "    #insert your email address here\n",
    "    server.login('insert email address here','xxxxxxxxxxxxxx')\n",
    "    \n",
    "    subject = \"The Shirt you want is below $15! Now is your chance to buy!\"\n",
    "    body = \"PRICE DROP ALERT!! Link here: https://www.amazon.com/Funny-Data-Systems-Business-Analyst/dp/B07FNW9FGJ/ref=sr_1_3?dchild=1&keywords=data+analyst+tshirt&qid=1626655184&sr=8-3\"\n",
    "   \n",
    "    msg = f\"Subject: {subject}\\n\\n{body}\"\n",
    "    \n",
    "    server.sendmail(\n",
    "        'Tayoshittu@gmail.com',\n",
    "        msg\n",
    "     \n",
    "    )"
   ]
  },
  {
   "cell_type": "code",
   "execution_count": null,
   "id": "c931c092",
   "metadata": {},
   "outputs": [],
   "source": []
  },
  {
   "cell_type": "code",
   "execution_count": null,
   "id": "913b04cd",
   "metadata": {},
   "outputs": [],
   "source": []
  },
  {
   "cell_type": "code",
   "execution_count": null,
   "id": "ee497ad8",
   "metadata": {},
   "outputs": [],
   "source": []
  },
  {
   "cell_type": "code",
   "execution_count": null,
   "id": "9be959e8",
   "metadata": {},
   "outputs": [],
   "source": []
  }
 ],
 "metadata": {
  "kernelspec": {
   "display_name": "Python 3 (ipykernel)",
   "language": "python",
   "name": "python3"
  },
  "language_info": {
   "codemirror_mode": {
    "name": "ipython",
    "version": 3
   },
   "file_extension": ".py",
   "mimetype": "text/x-python",
   "name": "python",
   "nbconvert_exporter": "python",
   "pygments_lexer": "ipython3",
   "version": "3.9.13"
  }
 },
 "nbformat": 4,
 "nbformat_minor": 5
}
